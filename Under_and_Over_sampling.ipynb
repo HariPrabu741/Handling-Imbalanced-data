{
  "nbformat": 4,
  "nbformat_minor": 0,
  "metadata": {
    "colab": {
      "name": "Under and Over sampling.ipynb",
      "provenance": [],
      "authorship_tag": "ABX9TyM6cX+9OWcyielXy05/zyd3"
    },
    "kernelspec": {
      "display_name": "Python 3",
      "name": "python3"
    },
    "language_info": {
      "name": "python"
    }
  },
  "cells": [
    {
      "cell_type": "markdown",
      "metadata": {
        "id": "eU-TN7by9wUQ"
      },
      "source": [
        "# Importing Library"
      ]
    },
    {
      "cell_type": "code",
      "metadata": {
        "id": "yIlvglzB9oz1"
      },
      "source": [
        "import pandas as pd\n",
        "import seaborn as sns\n",
        "import numpy as np\n",
        "from sklearn.preprocessing import LabelEncoder"
      ],
      "execution_count": 62,
      "outputs": []
    },
    {
      "cell_type": "code",
      "metadata": {
        "colab": {
          "base_uri": "https://localhost:8080/",
          "height": 274
        },
        "id": "NgIQnZt993C2",
        "outputId": "55af5db9-1423-4fb0-ab52-4f456dc29ea8"
      },
      "source": [
        "df=pd.read_csv('/content/creditcard.csv')\n",
        "df.head()"
      ],
      "execution_count": 63,
      "outputs": [
        {
          "output_type": "stream",
          "text": [
            "/usr/local/lib/python3.7/dist-packages/IPython/core/interactiveshell.py:2718: DtypeWarning: Columns (16) have mixed types.Specify dtype option on import or set low_memory=False.\n",
            "  interactivity=interactivity, compiler=compiler, result=result)\n"
          ],
          "name": "stderr"
        },
        {
          "output_type": "execute_result",
          "data": {
            "text/html": [
              "<div>\n",
              "<style scoped>\n",
              "    .dataframe tbody tr th:only-of-type {\n",
              "        vertical-align: middle;\n",
              "    }\n",
              "\n",
              "    .dataframe tbody tr th {\n",
              "        vertical-align: top;\n",
              "    }\n",
              "\n",
              "    .dataframe thead th {\n",
              "        text-align: right;\n",
              "    }\n",
              "</style>\n",
              "<table border=\"1\" class=\"dataframe\">\n",
              "  <thead>\n",
              "    <tr style=\"text-align: right;\">\n",
              "      <th></th>\n",
              "      <th>NPA Status</th>\n",
              "      <th>RevolvingUtilizationOfUnsecuredLines</th>\n",
              "      <th>age</th>\n",
              "      <th>Gender</th>\n",
              "      <th>Region</th>\n",
              "      <th>MonthlyIncome</th>\n",
              "      <th>Rented_OwnHouse</th>\n",
              "      <th>Occupation</th>\n",
              "      <th>Education</th>\n",
              "      <th>NumberOfTime30-59DaysPastDueNotWorse</th>\n",
              "      <th>DebtRatio</th>\n",
              "      <th>MonthlyIncome.1</th>\n",
              "      <th>NumberOfOpenCreditLinesAndLoans</th>\n",
              "      <th>NumberOfTimes90DaysLate</th>\n",
              "      <th>NumberRealEstateLoansOrLines</th>\n",
              "      <th>NumberOfTime60-89DaysPastDueNotWorse</th>\n",
              "      <th>NumberOfDependents</th>\n",
              "      <th>Good_Bad</th>\n",
              "    </tr>\n",
              "  </thead>\n",
              "  <tbody>\n",
              "    <tr>\n",
              "      <th>0</th>\n",
              "      <td>1.0</td>\n",
              "      <td>0.766127</td>\n",
              "      <td>45.0</td>\n",
              "      <td>Male</td>\n",
              "      <td>South</td>\n",
              "      <td>9120.0</td>\n",
              "      <td>Ownhouse</td>\n",
              "      <td>Self_Emp</td>\n",
              "      <td>Matric</td>\n",
              "      <td>2.0</td>\n",
              "      <td>0.802982</td>\n",
              "      <td>9120.0</td>\n",
              "      <td>13.0</td>\n",
              "      <td>0.0</td>\n",
              "      <td>6.0</td>\n",
              "      <td>0.0</td>\n",
              "      <td>2</td>\n",
              "      <td>Bad</td>\n",
              "    </tr>\n",
              "    <tr>\n",
              "      <th>1</th>\n",
              "      <td>0.0</td>\n",
              "      <td>0.957151</td>\n",
              "      <td>40.0</td>\n",
              "      <td>Female</td>\n",
              "      <td>South</td>\n",
              "      <td>2600.0</td>\n",
              "      <td>Ownhouse</td>\n",
              "      <td>Self_Emp</td>\n",
              "      <td>Graduate</td>\n",
              "      <td>0.0</td>\n",
              "      <td>0.121876</td>\n",
              "      <td>2600.0</td>\n",
              "      <td>4.0</td>\n",
              "      <td>0.0</td>\n",
              "      <td>0.0</td>\n",
              "      <td>0.0</td>\n",
              "      <td>1</td>\n",
              "      <td>Good</td>\n",
              "    </tr>\n",
              "    <tr>\n",
              "      <th>2</th>\n",
              "      <td>0.0</td>\n",
              "      <td>0.658180</td>\n",
              "      <td>38.0</td>\n",
              "      <td>Female</td>\n",
              "      <td>South</td>\n",
              "      <td>3042.0</td>\n",
              "      <td>Ownhouse</td>\n",
              "      <td>Self_Emp</td>\n",
              "      <td>PhD</td>\n",
              "      <td>1.0</td>\n",
              "      <td>0.085113</td>\n",
              "      <td>3042.0</td>\n",
              "      <td>2.0</td>\n",
              "      <td>1.0</td>\n",
              "      <td>0.0</td>\n",
              "      <td>0.0</td>\n",
              "      <td>0</td>\n",
              "      <td>Good</td>\n",
              "    </tr>\n",
              "    <tr>\n",
              "      <th>3</th>\n",
              "      <td>0.0</td>\n",
              "      <td>0.233810</td>\n",
              "      <td>30.0</td>\n",
              "      <td>Female</td>\n",
              "      <td>South</td>\n",
              "      <td>3300.0</td>\n",
              "      <td>Ownhouse</td>\n",
              "      <td>Self_Emp</td>\n",
              "      <td>Professional</td>\n",
              "      <td>0.0</td>\n",
              "      <td>0.036050</td>\n",
              "      <td>3300.0</td>\n",
              "      <td>5.0</td>\n",
              "      <td>0.0</td>\n",
              "      <td>0.0</td>\n",
              "      <td>0.0</td>\n",
              "      <td>0</td>\n",
              "      <td>Good</td>\n",
              "    </tr>\n",
              "    <tr>\n",
              "      <th>4</th>\n",
              "      <td>0.0</td>\n",
              "      <td>0.907239</td>\n",
              "      <td>49.0</td>\n",
              "      <td>Male</td>\n",
              "      <td>South</td>\n",
              "      <td>63588.0</td>\n",
              "      <td>Ownhouse</td>\n",
              "      <td>Self_Emp</td>\n",
              "      <td>Post-Grad</td>\n",
              "      <td>1.0</td>\n",
              "      <td>0.024926</td>\n",
              "      <td>63588.0</td>\n",
              "      <td>7.0</td>\n",
              "      <td>0.0</td>\n",
              "      <td>1.0</td>\n",
              "      <td>0.0</td>\n",
              "      <td>0</td>\n",
              "      <td>Good</td>\n",
              "    </tr>\n",
              "  </tbody>\n",
              "</table>\n",
              "</div>"
            ],
            "text/plain": [
              "   NPA Status  RevolvingUtilizationOfUnsecuredLines  ...  NumberOfDependents Good_Bad\n",
              "0         1.0                              0.766127  ...                   2      Bad\n",
              "1         0.0                              0.957151  ...                   1     Good\n",
              "2         0.0                              0.658180  ...                   0     Good\n",
              "3         0.0                              0.233810  ...                   0     Good\n",
              "4         0.0                              0.907239  ...                   0     Good\n",
              "\n",
              "[5 rows x 18 columns]"
            ]
          },
          "metadata": {
            "tags": []
          },
          "execution_count": 63
        }
      ]
    },
    {
      "cell_type": "code",
      "metadata": {
        "colab": {
          "base_uri": "https://localhost:8080/"
        },
        "id": "5hTcdqlSTxOw",
        "outputId": "e51f940d-f97e-4008-e2cd-54b2e16d653e"
      },
      "source": [
        "df.shape"
      ],
      "execution_count": 64,
      "outputs": [
        {
          "output_type": "execute_result",
          "data": {
            "text/plain": [
              "(150002, 18)"
            ]
          },
          "metadata": {
            "tags": []
          },
          "execution_count": 64
        }
      ]
    },
    {
      "cell_type": "code",
      "metadata": {
        "colab": {
          "base_uri": "https://localhost:8080/",
          "height": 350
        },
        "id": "MkJCvFK_8kfz",
        "outputId": "1a54d083-1b5d-4c64-9ab7-fe3d6585475f"
      },
      "source": [
        "sns.countplot(df['Good_Bad'])"
      ],
      "execution_count": 65,
      "outputs": [
        {
          "output_type": "stream",
          "text": [
            "/usr/local/lib/python3.7/dist-packages/seaborn/_decorators.py:43: FutureWarning: Pass the following variable as a keyword arg: x. From version 0.12, the only valid positional argument will be `data`, and passing other arguments without an explicit keyword will result in an error or misinterpretation.\n",
            "  FutureWarning\n"
          ],
          "name": "stderr"
        },
        {
          "output_type": "execute_result",
          "data": {
            "text/plain": [
              "<matplotlib.axes._subplots.AxesSubplot at 0x7fb6df101850>"
            ]
          },
          "metadata": {
            "tags": []
          },
          "execution_count": 65
        },
        {
          "output_type": "display_data",
          "data": {
            "image/png": "[encoded data removed]",
            "text/plain": [
              "<Figure size 432x288 with 1 Axes>"
            ]
          },
          "metadata": {
            "tags": [],
            "needs_background": "light"
          }
        }
      ]
    },
    {
      "cell_type": "code",
      "metadata": {
        "colab": {
          "base_uri": "https://localhost:8080/"
        },
        "id": "Z0Bw3vxu9-48",
        "outputId": "491aebf9-9310-4e84-9cc9-6174498d75e4"
      },
      "source": [
        "df['NumberOfDependents'].value_counts()"
      ],
      "execution_count": 66,
      "outputs": [
        {
          "output_type": "execute_result",
          "data": {
            "text/plain": [
              "0.0     75950\n",
              "1.0     23027\n",
              "2.0     17082\n",
              "0       10952\n",
              "3.0      8255\n",
              "1        3289\n",
              "4.0      2497\n",
              "2        2440\n",
              "3        1228\n",
              "5.0       636\n",
              "4         365\n",
              "6.0       133\n",
              "5         110\n",
              "7.0        45\n",
              "6          25\n",
              "8.0        20\n",
              "7           6\n",
              "10.0        5\n",
              "8           4\n",
              "9.0         3\n",
              "9           2\n",
              "13.0        1\n",
              "Good        1\n",
              "Bad         1\n",
              "20.0        1\n",
              "Name: NumberOfDependents, dtype: int64"
            ]
          },
          "metadata": {
            "tags": []
          },
          "execution_count": 66
        }
      ]
    },
    {
      "cell_type": "code",
      "metadata": {
        "colab": {
          "base_uri": "https://localhost:8080/"
        },
        "id": "5p2pGdH49-0l",
        "outputId": "49178b52-e095-41da-fb47-391438648222"
      },
      "source": [
        "# Finding the row where string present in feature\n",
        "\n",
        "print(np.where(df['NumberOfDependents']=='Good'))\n",
        "print(np.where(df['NumberOfDependents']=='Bad'))"
      ],
      "execution_count": 67,
      "outputs": [
        {
          "output_type": "stream",
          "text": [
            "(array([150000]),)\n",
            "(array([150001]),)\n"
          ],
          "name": "stdout"
        }
      ]
    },
    {
      "cell_type": "code",
      "metadata": {
        "id": "TmhBKzIr9-xw"
      },
      "source": [
        "# Dropping the object row\n",
        "\n",
        "df.drop(index=[150000,150001],inplace=True)"
      ],
      "execution_count": 68,
      "outputs": []
    },
    {
      "cell_type": "code",
      "metadata": {
        "id": "rAUsYVDv9-vT"
      },
      "source": [
        "# Changing the datatype\n",
        "\n",
        "df['NumberOfDependents']=df['NumberOfDependents'].astype('float')"
      ],
      "execution_count": 69,
      "outputs": []
    },
    {
      "cell_type": "code",
      "metadata": {
        "colab": {
          "base_uri": "https://localhost:8080/"
        },
        "id": "H7uEJXMD9-sV",
        "outputId": "2a35ed60-ee7e-420d-93d8-86003c067293"
      },
      "source": [
        "df.info()"
      ],
      "execution_count": 70,
      "outputs": [
        {
          "output_type": "stream",
          "text": [
            "<class 'pandas.core.frame.DataFrame'>\n",
            "Int64Index: 150000 entries, 0 to 149999\n",
            "Data columns (total 18 columns):\n",
            " #   Column                                Non-Null Count   Dtype  \n",
            "---  ------                                --------------   -----  \n",
            " 0   NPA Status                            150000 non-null  float64\n",
            " 1   RevolvingUtilizationOfUnsecuredLines  150000 non-null  float64\n",
            " 2   age                                   150000 non-null  float64\n",
            " 3   Gender                                150000 non-null  object \n",
            " 4   Region                                150000 non-null  object \n",
            " 5   MonthlyIncome                         120269 non-null  float64\n",
            " 6   Rented_OwnHouse                       150000 non-null  object \n",
            " 7   Occupation                            150000 non-null  object \n",
            " 8   Education                             150000 non-null  object \n",
            " 9   NumberOfTime30-59DaysPastDueNotWorse  150000 non-null  float64\n",
            " 10  DebtRatio                             150000 non-null  float64\n",
            " 11  MonthlyIncome.1                       120269 non-null  float64\n",
            " 12  NumberOfOpenCreditLinesAndLoans       150000 non-null  float64\n",
            " 13  NumberOfTimes90DaysLate               150000 non-null  float64\n",
            " 14  NumberRealEstateLoansOrLines          150000 non-null  float64\n",
            " 15  NumberOfTime60-89DaysPastDueNotWorse  150000 non-null  float64\n",
            " 16  NumberOfDependents                    146076 non-null  float64\n",
            " 17  Good_Bad                              150000 non-null  object \n",
            "dtypes: float64(12), object(6)\n",
            "memory usage: 21.7+ MB\n"
          ],
          "name": "stdout"
        }
      ]
    },
    {
      "cell_type": "code",
      "metadata": {
        "id": "S7GAHP9Q9-pE"
      },
      "source": [
        "# Monthly income feature repeated 2 times. So, dropping it\n",
        "\n",
        "df.drop('MonthlyIncome.1',axis=1,inplace=True)"
      ],
      "execution_count": 71,
      "outputs": []
    },
    {
      "cell_type": "code",
      "metadata": {
        "colab": {
          "base_uri": "https://localhost:8080/"
        },
        "id": "171MGICH-Hjz",
        "outputId": "e2d3cae5-2210-4430-e907-cd5a6321f5ce"
      },
      "source": [
        "# Finding Null values\n",
        "\n",
        "df.isnull().sum()"
      ],
      "execution_count": 72,
      "outputs": [
        {
          "output_type": "execute_result",
          "data": {
            "text/plain": [
              "NPA Status                                  0\n",
              "RevolvingUtilizationOfUnsecuredLines        0\n",
              "age                                         0\n",
              "Gender                                      0\n",
              "Region                                      0\n",
              "MonthlyIncome                           29731\n",
              "Rented_OwnHouse                             0\n",
              "Occupation                                  0\n",
              "Education                                   0\n",
              "NumberOfTime30-59DaysPastDueNotWorse        0\n",
              "DebtRatio                                   0\n",
              "NumberOfOpenCreditLinesAndLoans             0\n",
              "NumberOfTimes90DaysLate                     0\n",
              "NumberRealEstateLoansOrLines                0\n",
              "NumberOfTime60-89DaysPastDueNotWorse        0\n",
              "NumberOfDependents                       3924\n",
              "Good_Bad                                    0\n",
              "dtype: int64"
            ]
          },
          "metadata": {
            "tags": []
          },
          "execution_count": 72
        }
      ]
    },
    {
      "cell_type": "code",
      "metadata": {
        "id": "fWNI2zdM-Hg0"
      },
      "source": [
        "# Here we are going to cover inbalance data so droping nan\n",
        "\n",
        "df.dropna(axis=0,inplace=True)"
      ],
      "execution_count": 73,
      "outputs": []
    },
    {
      "cell_type": "code",
      "metadata": {
        "id": "exnv_Wzi-Hd7"
      },
      "source": [
        "df_cat=df.select_dtypes(include='object')"
      ],
      "execution_count": 74,
      "outputs": []
    },
    {
      "cell_type": "code",
      "metadata": {
        "id": "Ew8_RD_i-oAI"
      },
      "source": [
        "# Encoding on categorical feature\n",
        "\n",
        "encoder=LabelEncoder()\n",
        "\n",
        "def label_encode(df):\n",
        "    for i in df_cat.columns:\n",
        "        df[i]=encoder.fit_transform(df[i])\n",
        "\n",
        "label_encode(df)"
      ],
      "execution_count": 75,
      "outputs": []
    },
    {
      "cell_type": "code",
      "metadata": {
        "colab": {
          "base_uri": "https://localhost:8080/",
          "height": 240
        },
        "id": "f_p1g-xB-n9g",
        "outputId": "829c1ea3-e355-4566-ced1-7751d712459f"
      },
      "source": [
        "df.head()"
      ],
      "execution_count": 76,
      "outputs": [
        {
          "output_type": "execute_result",
          "data": {
            "text/html": [
              "<div>\n",
              "<style scoped>\n",
              "    .dataframe tbody tr th:only-of-type {\n",
              "        vertical-align: middle;\n",
              "    }\n",
              "\n",
              "    .dataframe tbody tr th {\n",
              "        vertical-align: top;\n",
              "    }\n",
              "\n",
              "    .dataframe thead th {\n",
              "        text-align: right;\n",
              "    }\n",
              "</style>\n",
              "<table border=\"1\" class=\"dataframe\">\n",
              "  <thead>\n",
              "    <tr style=\"text-align: right;\">\n",
              "      <th></th>\n",
              "      <th>NPA Status</th>\n",
              "      <th>RevolvingUtilizationOfUnsecuredLines</th>\n",
              "      <th>age</th>\n",
              "      <th>Gender</th>\n",
              "      <th>Region</th>\n",
              "      <th>MonthlyIncome</th>\n",
              "      <th>Rented_OwnHouse</th>\n",
              "      <th>Occupation</th>\n",
              "      <th>Education</th>\n",
              "      <th>NumberOfTime30-59DaysPastDueNotWorse</th>\n",
              "      <th>DebtRatio</th>\n",
              "      <th>NumberOfOpenCreditLinesAndLoans</th>\n",
              "      <th>NumberOfTimes90DaysLate</th>\n",
              "      <th>NumberRealEstateLoansOrLines</th>\n",
              "      <th>NumberOfTime60-89DaysPastDueNotWorse</th>\n",
              "      <th>NumberOfDependents</th>\n",
              "      <th>Good_Bad</th>\n",
              "    </tr>\n",
              "  </thead>\n",
              "  <tbody>\n",
              "    <tr>\n",
              "      <th>0</th>\n",
              "      <td>1.0</td>\n",
              "      <td>0.766127</td>\n",
              "      <td>45.0</td>\n",
              "      <td>1</td>\n",
              "      <td>3</td>\n",
              "      <td>9120.0</td>\n",
              "      <td>0</td>\n",
              "      <td>4</td>\n",
              "      <td>1</td>\n",
              "      <td>2.0</td>\n",
              "      <td>0.802982</td>\n",
              "      <td>13.0</td>\n",
              "      <td>0.0</td>\n",
              "      <td>6.0</td>\n",
              "      <td>0.0</td>\n",
              "      <td>2.0</td>\n",
              "      <td>0</td>\n",
              "    </tr>\n",
              "    <tr>\n",
              "      <th>1</th>\n",
              "      <td>0.0</td>\n",
              "      <td>0.957151</td>\n",
              "      <td>40.0</td>\n",
              "      <td>0</td>\n",
              "      <td>3</td>\n",
              "      <td>2600.0</td>\n",
              "      <td>0</td>\n",
              "      <td>4</td>\n",
              "      <td>0</td>\n",
              "      <td>0.0</td>\n",
              "      <td>0.121876</td>\n",
              "      <td>4.0</td>\n",
              "      <td>0.0</td>\n",
              "      <td>0.0</td>\n",
              "      <td>0.0</td>\n",
              "      <td>1.0</td>\n",
              "      <td>1</td>\n",
              "    </tr>\n",
              "    <tr>\n",
              "      <th>2</th>\n",
              "      <td>0.0</td>\n",
              "      <td>0.658180</td>\n",
              "      <td>38.0</td>\n",
              "      <td>0</td>\n",
              "      <td>3</td>\n",
              "      <td>3042.0</td>\n",
              "      <td>0</td>\n",
              "      <td>4</td>\n",
              "      <td>2</td>\n",
              "      <td>1.0</td>\n",
              "      <td>0.085113</td>\n",
              "      <td>2.0</td>\n",
              "      <td>1.0</td>\n",
              "      <td>0.0</td>\n",
              "      <td>0.0</td>\n",
              "      <td>0.0</td>\n",
              "      <td>1</td>\n",
              "    </tr>\n",
              "    <tr>\n",
              "      <th>3</th>\n",
              "      <td>0.0</td>\n",
              "      <td>0.233810</td>\n",
              "      <td>30.0</td>\n",
              "      <td>0</td>\n",
              "      <td>3</td>\n",
              "      <td>3300.0</td>\n",
              "      <td>0</td>\n",
              "      <td>4</td>\n",
              "      <td>4</td>\n",
              "      <td>0.0</td>\n",
              "      <td>0.036050</td>\n",
              "      <td>5.0</td>\n",
              "      <td>0.0</td>\n",
              "      <td>0.0</td>\n",
              "      <td>0.0</td>\n",
              "      <td>0.0</td>\n",
              "      <td>1</td>\n",
              "    </tr>\n",
              "    <tr>\n",
              "      <th>4</th>\n",
              "      <td>0.0</td>\n",
              "      <td>0.907239</td>\n",
              "      <td>49.0</td>\n",
              "      <td>1</td>\n",
              "      <td>3</td>\n",
              "      <td>63588.0</td>\n",
              "      <td>0</td>\n",
              "      <td>4</td>\n",
              "      <td>3</td>\n",
              "      <td>1.0</td>\n",
              "      <td>0.024926</td>\n",
              "      <td>7.0</td>\n",
              "      <td>0.0</td>\n",
              "      <td>1.0</td>\n",
              "      <td>0.0</td>\n",
              "      <td>0.0</td>\n",
              "      <td>1</td>\n",
              "    </tr>\n",
              "  </tbody>\n",
              "</table>\n",
              "</div>"
            ],
            "text/plain": [
              "   NPA Status  ...  Good_Bad\n",
              "0         1.0  ...         0\n",
              "1         0.0  ...         1\n",
              "2         0.0  ...         1\n",
              "3         0.0  ...         1\n",
              "4         0.0  ...         1\n",
              "\n",
              "[5 rows x 17 columns]"
            ]
          },
          "metadata": {
            "tags": []
          },
          "execution_count": 76
        }
      ]
    },
    {
      "cell_type": "code",
      "metadata": {
        "colab": {
          "base_uri": "https://localhost:8080/"
        },
        "id": "n52bkmWM-n6p",
        "outputId": "58c3a006-df83-4343-dcd8-5c34cfb21ec1"
      },
      "source": [
        "df.info()"
      ],
      "execution_count": 77,
      "outputs": [
        {
          "output_type": "stream",
          "text": [
            "<class 'pandas.core.frame.DataFrame'>\n",
            "Int64Index: 120269 entries, 0 to 149999\n",
            "Data columns (total 17 columns):\n",
            " #   Column                                Non-Null Count   Dtype  \n",
            "---  ------                                --------------   -----  \n",
            " 0   NPA Status                            120269 non-null  float64\n",
            " 1   RevolvingUtilizationOfUnsecuredLines  120269 non-null  float64\n",
            " 2   age                                   120269 non-null  float64\n",
            " 3   Gender                                120269 non-null  int64  \n",
            " 4   Region                                120269 non-null  int64  \n",
            " 5   MonthlyIncome                         120269 non-null  float64\n",
            " 6   Rented_OwnHouse                       120269 non-null  int64  \n",
            " 7   Occupation                            120269 non-null  int64  \n",
            " 8   Education                             120269 non-null  int64  \n",
            " 9   NumberOfTime30-59DaysPastDueNotWorse  120269 non-null  float64\n",
            " 10  DebtRatio                             120269 non-null  float64\n",
            " 11  NumberOfOpenCreditLinesAndLoans       120269 non-null  float64\n",
            " 12  NumberOfTimes90DaysLate               120269 non-null  float64\n",
            " 13  NumberRealEstateLoansOrLines          120269 non-null  float64\n",
            " 14  NumberOfTime60-89DaysPastDueNotWorse  120269 non-null  float64\n",
            " 15  NumberOfDependents                    120269 non-null  float64\n",
            " 16  Good_Bad                              120269 non-null  int64  \n",
            "dtypes: float64(11), int64(6)\n",
            "memory usage: 16.5 MB\n"
          ],
          "name": "stdout"
        }
      ]
    },
    {
      "cell_type": "code",
      "metadata": {
        "colab": {
          "base_uri": "https://localhost:8080/"
        },
        "id": "Kfb7vwrATlHq",
        "outputId": "5b8c744e-8d23-46c1-a082-e7c71a4e4247"
      },
      "source": [
        "df['Good_Bad'].value_counts()"
      ],
      "execution_count": 78,
      "outputs": [
        {
          "output_type": "execute_result",
          "data": {
            "text/plain": [
              "1    111912\n",
              "0      8357\n",
              "Name: Good_Bad, dtype: int64"
            ]
          },
          "metadata": {
            "tags": []
          },
          "execution_count": 78
        }
      ]
    },
    {
      "cell_type": "markdown",
      "metadata": {
        "id": "UO3mpgnN8XX5"
      },
      "source": [
        "# Under sampling"
      ]
    },
    {
      "cell_type": "code",
      "metadata": {
        "id": "Snsw4Zpj8_zi"
      },
      "source": [
        "x=df.drop('Good_Bad',axis=1)\n",
        "y=df['Good_Bad']"
      ],
      "execution_count": 79,
      "outputs": []
    },
    {
      "cell_type": "code",
      "metadata": {
        "colab": {
          "base_uri": "https://localhost:8080/"
        },
        "id": "iPDE6g1R9MMh",
        "outputId": "f3a286dc-f0be-44a0-b5fa-553dbb5156b2"
      },
      "source": [
        "print(x.shape,y.shape)"
      ],
      "execution_count": 80,
      "outputs": [
        {
          "output_type": "stream",
          "text": [
            "(120269, 16) (120269,)\n"
          ],
          "name": "stdout"
        }
      ]
    },
    {
      "cell_type": "code",
      "metadata": {
        "id": "ETQXYxiXTjrK"
      },
      "source": [
        "from imblearn.under_sampling import NearMiss"
      ],
      "execution_count": 81,
      "outputs": []
    },
    {
      "cell_type": "code",
      "metadata": {
        "id": "A4bXnguO-2A5"
      },
      "source": [
        "u_s=NearMiss(random_state=42)"
      ],
      "execution_count": 82,
      "outputs": []
    },
    {
      "cell_type": "code",
      "metadata": {
        "colab": {
          "base_uri": "https://localhost:8080/"
        },
        "id": "vsJP4AWB9fXG",
        "outputId": "4f32bd0f-0d32-46a3-9775-ae436b8806da"
      },
      "source": [
        "x_u,y_u=u_s.fit_sample(x,y)"
      ],
      "execution_count": 83,
      "outputs": [
        {
          "output_type": "stream",
          "text": [
            "/usr/local/lib/python3.7/dist-packages/sklearn/utils/deprecation.py:87: FutureWarning: Function safe_indexing is deprecated; safe_indexing is deprecated in version 0.22 and will be removed in version 0.24.\n",
            "  warnings.warn(msg, category=FutureWarning)\n",
            "/usr/local/lib/python3.7/dist-packages/sklearn/utils/deprecation.py:87: FutureWarning: Function safe_indexing is deprecated; safe_indexing is deprecated in version 0.22 and will be removed in version 0.24.\n",
            "  warnings.warn(msg, category=FutureWarning)\n",
            "/usr/local/lib/python3.7/dist-packages/sklearn/utils/deprecation.py:87: FutureWarning: Function safe_indexing is deprecated; safe_indexing is deprecated in version 0.22 and will be removed in version 0.24.\n",
            "  warnings.warn(msg, category=FutureWarning)\n"
          ],
          "name": "stderr"
        }
      ]
    },
    {
      "cell_type": "code",
      "metadata": {
        "colab": {
          "base_uri": "https://localhost:8080/"
        },
        "id": "hJhwP_jk9pAE",
        "outputId": "de8ea399-019c-437d-8ed1-430626919398"
      },
      "source": [
        "print(x_u.shape,y_u.shape)"
      ],
      "execution_count": 84,
      "outputs": [
        {
          "output_type": "stream",
          "text": [
            "(16714, 16) (16714,)\n"
          ],
          "name": "stdout"
        }
      ]
    },
    {
      "cell_type": "code",
      "metadata": {
        "colab": {
          "base_uri": "https://localhost:8080/",
          "height": 335
        },
        "id": "UeAmg5ggA7mc",
        "outputId": "fe876ca9-7154-440f-94bb-acb1e35bb70c"
      },
      "source": [
        "sns.countplot(y_u)"
      ],
      "execution_count": 85,
      "outputs": [
        {
          "output_type": "stream",
          "text": [
            "/usr/local/lib/python3.7/dist-packages/seaborn/_decorators.py:43: FutureWarning: Pass the following variable as a keyword arg: x. From version 0.12, the only valid positional argument will be `data`, and passing other arguments without an explicit keyword will result in an error or misinterpretation.\n",
            "  FutureWarning\n"
          ],
          "name": "stderr"
        },
        {
          "output_type": "execute_result",
          "data": {
            "text/plain": [
              "<matplotlib.axes._subplots.AxesSubplot at 0x7fb6decbbf90>"
            ]
          },
          "metadata": {
            "tags": []
          },
          "execution_count": 85
        },
        {
          "output_type": "display_data",
          "data": {
            "image/png": "[encoded data removed]",
            "text/plain": [
              "<Figure size 432x288 with 1 Axes>"
            ]
          },
          "metadata": {
            "tags": [],
            "needs_background": "light"
          }
        }
      ]
    },
    {
      "cell_type": "markdown",
      "metadata": {
        "id": "6OKgfgnbABRP"
      },
      "source": [
        "# Over sampling ---->SMOTETomek method(hybrid method) or random over sampler method"
      ]
    },
    {
      "cell_type": "markdown",
      "metadata": {
        "id": "GMnz7TT3BM4g"
      },
      "source": [
        "# SMOTETomek"
      ]
    },
    {
      "cell_type": "code",
      "metadata": {
        "id": "kv1MMVPTAS9r"
      },
      "source": [
        "from imblearn.combine import SMOTETomek"
      ],
      "execution_count": 86,
      "outputs": []
    },
    {
      "cell_type": "code",
      "metadata": {
        "id": "1YG4hs69AoK5"
      },
      "source": [
        "sm=SMOTETomek(ratio=1)"
      ],
      "execution_count": 87,
      "outputs": []
    },
    {
      "cell_type": "code",
      "metadata": {
        "colab": {
          "base_uri": "https://localhost:8080/"
        },
        "id": "U9Awb9cEArzQ",
        "outputId": "8578cd47-da9f-456a-a833-4ecda26058d1"
      },
      "source": [
        "x_sm,y_sm=sm.fit_sample(x,y)"
      ],
      "execution_count": 88,
      "outputs": [
        {
          "output_type": "stream",
          "text": [
            "/usr/local/lib/python3.7/dist-packages/sklearn/utils/deprecation.py:87: FutureWarning: Function safe_indexing is deprecated; safe_indexing is deprecated in version 0.22 and will be removed in version 0.24.\n",
            "  warnings.warn(msg, category=FutureWarning)\n",
            "/usr/local/lib/python3.7/dist-packages/sklearn/utils/deprecation.py:87: FutureWarning: Function safe_indexing is deprecated; safe_indexing is deprecated in version 0.22 and will be removed in version 0.24.\n",
            "  warnings.warn(msg, category=FutureWarning)\n"
          ],
          "name": "stderr"
        }
      ]
    },
    {
      "cell_type": "code",
      "metadata": {
        "colab": {
          "base_uri": "https://localhost:8080/"
        },
        "id": "N7qeffLQAzKR",
        "outputId": "a80487a5-c310-4490-ff96-4ba3779f4ca9"
      },
      "source": [
        "print(x_sm.shape,y_sm.shape)"
      ],
      "execution_count": 89,
      "outputs": [
        {
          "output_type": "stream",
          "text": [
            "(222170, 16) (222170,)\n"
          ],
          "name": "stdout"
        }
      ]
    },
    {
      "cell_type": "code",
      "metadata": {
        "colab": {
          "base_uri": "https://localhost:8080/",
          "height": 335
        },
        "id": "6Qm5rdbwA59E",
        "outputId": "4a03ab72-69fe-4020-947e-7158861f32cb"
      },
      "source": [
        "sns.countplot(y_sm)"
      ],
      "execution_count": 90,
      "outputs": [
        {
          "output_type": "stream",
          "text": [
            "/usr/local/lib/python3.7/dist-packages/seaborn/_decorators.py:43: FutureWarning: Pass the following variable as a keyword arg: x. From version 0.12, the only valid positional argument will be `data`, and passing other arguments without an explicit keyword will result in an error or misinterpretation.\n",
            "  FutureWarning\n"
          ],
          "name": "stderr"
        },
        {
          "output_type": "execute_result",
          "data": {
            "text/plain": [
              "<matplotlib.axes._subplots.AxesSubplot at 0x7fb6dec57e10>"
            ]
          },
          "metadata": {
            "tags": []
          },
          "execution_count": 90
        },
        {
          "output_type": "display_data",
          "data": {
            "image/png": "[encoded data removed]",
            "text/plain": [
              "<Figure size 432x288 with 1 Axes>"
            ]
          },
          "metadata": {
            "tags": [],
            "needs_background": "light"
          }
        }
      ]
    },
    {
      "cell_type": "code",
      "metadata": {
        "id": "0P7pMpKMBEnl"
      },
      "source": [
        ""
      ],
      "execution_count": 90,
      "outputs": []
    },
    {
      "cell_type": "markdown",
      "metadata": {
        "id": "FTUsfQ4-BS5L"
      },
      "source": [
        "# RandomOverSampler"
      ]
    },
    {
      "cell_type": "code",
      "metadata": {
        "id": "ldxVUsU1BbjG"
      },
      "source": [
        "from imblearn.over_sampling import RandomOverSampler"
      ],
      "execution_count": 91,
      "outputs": []
    },
    {
      "cell_type": "code",
      "metadata": {
        "id": "2_7j-GVdBgLu"
      },
      "source": [
        "ro=RandomOverSampler(ratio=1)"
      ],
      "execution_count": 92,
      "outputs": []
    },
    {
      "cell_type": "code",
      "metadata": {
        "colab": {
          "base_uri": "https://localhost:8080/"
        },
        "id": "Fom77kx8Bkt9",
        "outputId": "55e03859-7a39-46c3-b2e7-d8987a13c917"
      },
      "source": [
        "x_ro,y_ro=ro.fit_sample(x,y)"
      ],
      "execution_count": 93,
      "outputs": [
        {
          "output_type": "stream",
          "text": [
            "/usr/local/lib/python3.7/dist-packages/sklearn/utils/deprecation.py:87: FutureWarning: Function safe_indexing is deprecated; safe_indexing is deprecated in version 0.22 and will be removed in version 0.24.\n",
            "  warnings.warn(msg, category=FutureWarning)\n"
          ],
          "name": "stderr"
        }
      ]
    },
    {
      "cell_type": "code",
      "metadata": {
        "colab": {
          "base_uri": "https://localhost:8080/"
        },
        "id": "y4_NqDduBpyM",
        "outputId": "f90bb49e-f55a-4d44-9060-c4f1bda6b620"
      },
      "source": [
        "print(x_ro.shape,y_ro.shape)"
      ],
      "execution_count": 94,
      "outputs": [
        {
          "output_type": "stream",
          "text": [
            "(223824, 16) (223824,)\n"
          ],
          "name": "stdout"
        }
      ]
    },
    {
      "cell_type": "code",
      "metadata": {
        "colab": {
          "base_uri": "https://localhost:8080/",
          "height": 335
        },
        "id": "GPYyKSVuBvBs",
        "outputId": "71f62e04-371a-4a6b-fe28-f36be6f918b8"
      },
      "source": [
        "sns.countplot(y_ro)"
      ],
      "execution_count": 95,
      "outputs": [
        {
          "output_type": "stream",
          "text": [
            "/usr/local/lib/python3.7/dist-packages/seaborn/_decorators.py:43: FutureWarning: Pass the following variable as a keyword arg: x. From version 0.12, the only valid positional argument will be `data`, and passing other arguments without an explicit keyword will result in an error or misinterpretation.\n",
            "  FutureWarning\n"
          ],
          "name": "stderr"
        },
        {
          "output_type": "execute_result",
          "data": {
            "text/plain": [
              "<matplotlib.axes._subplots.AxesSubplot at 0x7fb6df180f50>"
            ]
          },
          "metadata": {
            "tags": []
          },
          "execution_count": 95
        },
        {
          "output_type": "display_data",
          "data": {
            "image/png": "[encoded data removed]",
            "text/plain": [
              "<Figure size 432x288 with 1 Axes>"
            ]
          },
          "metadata": {
            "tags": [],
            "needs_background": "light"
          }
        }
      ]
    },
    {
      "cell_type": "code",
      "metadata": {
        "id": "FnbaEIcYB7Xd"
      },
      "source": [
        ""
      ],
      "execution_count": 95,
      "outputs": []
    }
  ]
}